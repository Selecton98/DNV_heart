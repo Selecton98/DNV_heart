{
 "cells": [
  {
   "cell_type": "code",
   "execution_count": 1,
   "id": "dcfd353b-e4fa-44a1-b7dd-398bfa46a9ce",
   "metadata": {
    "tags": [
     "parameters"
    ]
   },
   "outputs": [],
   "source": [
    "sample = \"NutrapPOS_S1\"\n",
    "#template = \"cCARLIN\"\n",
    "data_path = \"/home/zhoujiaqi/data/zhoujiaqi/carlin/UMAP/FASTQ/\"\n",
    "output_dir = \"/home/zhoujiaqi/data/zhoujiaqi/carlin/output/\"\n",
    "ref_dir ='/home/zhoujiaqi/data/zhoujiaqi/carlin/UMAP/Sample1BC.txt'\n",
    "#CARLIN_read_cutoff=3 # used to compare with CARLIN pipeline\n",
    "cfg=\"sc10xV3\" # ['sc10xV3',  'scCamellia']\n",
    "coarse_grained_readcutoff_floor=5 # the lower bound of the later read count filtering, after denoising, and re-group reads. \n",
    "distance_relative_threshold=0.03 # 5% error rate, will be multipled with the sequence length\n",
    "read_ratio_threshold=0.6\n",
    "#seq_3prime_upper_N=15\n",
    "#seq_5prime_upper_N=None"
   ]
  },
  {
   "cell_type": "code",
   "execution_count": 2,
   "id": "82c76a21-d6c0-4437-a4e9-b26252012265",
   "metadata": {},
   "outputs": [
    {
     "name": "stderr",
     "output_type": "stream",
     "text": [
      "/home/zhoujiaqi/miniconda2/envs/darlin/lib/python3.11/site-packages/Bio/pairwise2.py:278: BiopythonDeprecationWarning: Bio.pairwise2 has been deprecated, and we intend to remove it in a future release of Biopython. As an alternative, please consider using Bio.Align.PairwiseAligner as a replacement, and contact the Biopython developers if you still need the Bio.pairwise2 module.\n",
      "  warnings.warn(\n"
     ]
    }
   ],
   "source": [
    "import pandas as pd\n",
    "import seaborn as sns\n",
    "import numpy as np\n",
    "import matplotlib.pyplot as plt\n",
    "import os\n",
    "import yaml\n",
    "from mosaiclineage import DARLIN as car\n",
    "from mosaiclineage import larry"
   ]
  },
  {
   "cell_type": "code",
   "execution_count": 3,
   "id": "39c9f095-9991-406c-ac35-23895ec855b6",
   "metadata": {},
   "outputs": [],
   "source": [
    "import importlib\n",
    "importlib.reload(car)\n",
    "importlib.reload(larry)\n",
    "#%config InlineBackend.figure_format = 'svg' #'retina'         # or 'svg'\n",
    "pd.set_option('display.max_columns', None)\n",
    "pd.set_option('display.max_rows',100)\n",
    "%matplotlib inline"
   ]
  },
  {
   "cell_type": "markdown",
   "id": "b35c1f4e-d259-49f1-ba4e-84494c8cd794",
   "metadata": {
    "papermill": {
     "duration": 0.092002,
     "end_time": "2022-08-03T14:47:41.130058",
     "exception": false,
     "start_time": "2022-08-03T14:47:41.038056",
     "status": "completed"
    },
    "tags": []
   },
   "source": [
    "# Single-cell CARLIN pipeline for 10x data"
   ]
  },
  {
   "cell_type": "code",
   "execution_count": 4,
   "id": "eaa0aa9b-134e-4e97-867a-a599b2cbcdc9",
   "metadata": {
    "papermill": {
     "duration": 6.550087,
     "end_time": "2022-08-03T14:47:47.965337",
     "exception": false,
     "start_time": "2022-08-03T14:47:41.415250",
     "status": "completed"
    },
    "tags": []
   },
   "outputs": [],
   "source": [
    "ref_name=cfg\n",
    "df_ref_BC=pd.read_csv(f'{ref_dir}',\n",
    "                      sep='\\t',header=None,names=['CB'])"
   ]
  },
  {
   "cell_type": "code",
   "execution_count": 5,
   "id": "d6dd01f3-0656-4c8a-81a9-f1be433486d1",
   "metadata": {},
   "outputs": [
    {
     "data": {
      "text/html": [
       "<div>\n",
       "<style scoped>\n",
       "    .dataframe tbody tr th:only-of-type {\n",
       "        vertical-align: middle;\n",
       "    }\n",
       "\n",
       "    .dataframe tbody tr th {\n",
       "        vertical-align: top;\n",
       "    }\n",
       "\n",
       "    .dataframe thead th {\n",
       "        text-align: right;\n",
       "    }\n",
       "</style>\n",
       "<table border=\"1\" class=\"dataframe\">\n",
       "  <thead>\n",
       "    <tr style=\"text-align: right;\">\n",
       "      <th></th>\n",
       "      <th>CB</th>\n",
       "    </tr>\n",
       "  </thead>\n",
       "  <tbody>\n",
       "    <tr>\n",
       "      <th>0</th>\n",
       "      <td>AATCACGCAGGCCTGT</td>\n",
       "    </tr>\n",
       "    <tr>\n",
       "      <th>1</th>\n",
       "      <td>ACCTGTCGTATCCTCC</td>\n",
       "    </tr>\n",
       "    <tr>\n",
       "      <th>2</th>\n",
       "      <td>ACGGTTAGTGTCATGT</td>\n",
       "    </tr>\n",
       "    <tr>\n",
       "      <th>3</th>\n",
       "      <td>AGGTGTTTCAGCTGAT</td>\n",
       "    </tr>\n",
       "    <tr>\n",
       "      <th>4</th>\n",
       "      <td>AGTAGTCAGCACAAAT</td>\n",
       "    </tr>\n",
       "    <tr>\n",
       "      <th>...</th>\n",
       "      <td>...</td>\n",
       "    </tr>\n",
       "    <tr>\n",
       "      <th>162</th>\n",
       "      <td>GCAACCGGTCGAACGA</td>\n",
       "    </tr>\n",
       "    <tr>\n",
       "      <th>163</th>\n",
       "      <td>GGTGTCGGTTTACCAG</td>\n",
       "    </tr>\n",
       "    <tr>\n",
       "      <th>164</th>\n",
       "      <td>TAGCACACATTGAAGA</td>\n",
       "    </tr>\n",
       "    <tr>\n",
       "      <th>165</th>\n",
       "      <td>TGCTCCATCTGACCCT</td>\n",
       "    </tr>\n",
       "    <tr>\n",
       "      <th>166</th>\n",
       "      <td>TGTTCCGTCCAGTTCC</td>\n",
       "    </tr>\n",
       "  </tbody>\n",
       "</table>\n",
       "<p>167 rows × 1 columns</p>\n",
       "</div>"
      ],
      "text/plain": [
       "                   CB\n",
       "0    AATCACGCAGGCCTGT\n",
       "1    ACCTGTCGTATCCTCC\n",
       "2    ACGGTTAGTGTCATGT\n",
       "3    AGGTGTTTCAGCTGAT\n",
       "4    AGTAGTCAGCACAAAT\n",
       "..                ...\n",
       "162  GCAACCGGTCGAACGA\n",
       "163  GGTGTCGGTTTACCAG\n",
       "164  TAGCACACATTGAAGA\n",
       "165  TGCTCCATCTGACCCT\n",
       "166  TGTTCCGTCCAGTTCC\n",
       "\n",
       "[167 rows x 1 columns]"
      ]
     },
     "execution_count": 5,
     "metadata": {},
     "output_type": "execute_result"
    }
   ],
   "source": [
    "df_ref_BC"
   ]
  },
  {
   "cell_type": "code",
   "execution_count": 6,
   "id": "bd018fd7-873b-49b4-ab04-105cc4feb7f7",
   "metadata": {
    "papermill": {
     "duration": 24.626381,
     "end_time": "2022-08-03T14:48:12.735915",
     "exception": false,
     "start_time": "2022-08-03T14:47:48.109534",
     "status": "completed"
    },
    "tags": []
   },
   "outputs": [
    {
     "name": "stdout",
     "output_type": "stream",
     "text": [
      "CPU times: user 2min 52s, sys: 2.62 s, total: 2min 55s\n",
      "Wall time: 2min 55s\n"
     ]
    }
   ],
   "source": [
    "%%time\n",
    "## load sequences\n",
    "df_raw_reads=car.CARLIN_raw_reads(data_path+sample,sample,protocol=cfg)"
   ]
  },
  {
   "cell_type": "code",
   "execution_count": 7,
   "id": "589edcbb-11be-4feb-9fee-1fd70c050223",
   "metadata": {},
   "outputs": [
    {
     "data": {
      "text/html": [
       "<div>\n",
       "<style scoped>\n",
       "    .dataframe tbody tr th:only-of-type {\n",
       "        vertical-align: middle;\n",
       "    }\n",
       "\n",
       "    .dataframe tbody tr th {\n",
       "        vertical-align: top;\n",
       "    }\n",
       "\n",
       "    .dataframe thead th {\n",
       "        text-align: right;\n",
       "    }\n",
       "</style>\n",
       "<table border=\"1\" class=\"dataframe\">\n",
       "  <thead>\n",
       "    <tr style=\"text-align: right;\">\n",
       "      <th></th>\n",
       "      <th>cell_bc</th>\n",
       "      <th>cell_bc_quality_mean</th>\n",
       "      <th>cell_bc_quality_min</th>\n",
       "      <th>library</th>\n",
       "      <th>cell_id</th>\n",
       "      <th>umi</th>\n",
       "      <th>umi_quality_mean</th>\n",
       "      <th>umi_quality_min</th>\n",
       "      <th>umi_id</th>\n",
       "      <th>clone_id</th>\n",
       "      <th>clone_id_quality_mean</th>\n",
       "      <th>clone_id_quality_min</th>\n",
       "    </tr>\n",
       "  </thead>\n",
       "  <tbody>\n",
       "    <tr>\n",
       "      <th>0</th>\n",
       "      <td>TGTGATGAGAAATTCG</td>\n",
       "      <td>34.6875</td>\n",
       "      <td>19</td>\n",
       "      <td>NutrapPOS_S1</td>\n",
       "      <td>NutrapPOS_S1_TGTGATGAGAAATTCG</td>\n",
       "      <td>ACATAATCCTAG</td>\n",
       "      <td>34.583333</td>\n",
       "      <td>20</td>\n",
       "      <td>TGTGATGAGAAATTCG_ACATAATCCTAG</td>\n",
       "      <td>GAGCTGTACAAGTAAGCGGCCGCCGGACTGCACGACAGTCCGCGTA...</td>\n",
       "      <td>27.397143</td>\n",
       "      <td>12</td>\n",
       "    </tr>\n",
       "    <tr>\n",
       "      <th>1</th>\n",
       "      <td>CTAGGTAAGAAGATCT</td>\n",
       "      <td>30.1250</td>\n",
       "      <td>16</td>\n",
       "      <td>NutrapPOS_S1</td>\n",
       "      <td>NutrapPOS_S1_CTAGGTAAGAAGATCT</td>\n",
       "      <td>CCCAACAGAACG</td>\n",
       "      <td>30.416667</td>\n",
       "      <td>15</td>\n",
       "      <td>CTAGGTAAGAAGATCT_CCCAACAGAACG</td>\n",
       "      <td>GAGCTGTACAAGTAAGCGGCCGCCGGACTGCACGACAGTCGACGAT...</td>\n",
       "      <td>29.111429</td>\n",
       "      <td>12</td>\n",
       "    </tr>\n",
       "    <tr>\n",
       "      <th>2</th>\n",
       "      <td>TTCTTGAGTACCTAAC</td>\n",
       "      <td>36.0625</td>\n",
       "      <td>33</td>\n",
       "      <td>NutrapPOS_S1</td>\n",
       "      <td>NutrapPOS_S1_TTCTTGAGTACCTAAC</td>\n",
       "      <td>TCTCTTAAAGTT</td>\n",
       "      <td>38.500000</td>\n",
       "      <td>38</td>\n",
       "      <td>TTCTTGAGTACCTAAC_TCTCTTAAAGTT</td>\n",
       "      <td>GAGCTGTACAAGTAAGCGGCCGCCGGACTGCACGACAGTCGATGGA...</td>\n",
       "      <td>29.282857</td>\n",
       "      <td>12</td>\n",
       "    </tr>\n",
       "    <tr>\n",
       "      <th>3</th>\n",
       "      <td>CTACAGACATGGGTTT</td>\n",
       "      <td>34.3125</td>\n",
       "      <td>29</td>\n",
       "      <td>NutrapPOS_S1</td>\n",
       "      <td>NutrapPOS_S1_CTACAGACATGGGTTT</td>\n",
       "      <td>TCGTTGCCTTGC</td>\n",
       "      <td>37.500000</td>\n",
       "      <td>35</td>\n",
       "      <td>CTACAGACATGGGTTT_TCGTTGCCTTGC</td>\n",
       "      <td>GAGCTGTACAAGTAAGCGGCCGCCGGACTGCACGACAGTCGCGATG...</td>\n",
       "      <td>27.754286</td>\n",
       "      <td>12</td>\n",
       "    </tr>\n",
       "    <tr>\n",
       "      <th>4</th>\n",
       "      <td>TGTGATGAGAAATTCG</td>\n",
       "      <td>33.6875</td>\n",
       "      <td>16</td>\n",
       "      <td>NutrapPOS_S1</td>\n",
       "      <td>NutrapPOS_S1_TGTGATGAGAAATTCG</td>\n",
       "      <td>ACATAATCCTAG</td>\n",
       "      <td>33.416667</td>\n",
       "      <td>18</td>\n",
       "      <td>TGTGATGAGAAATTCG_ACATAATCCTAG</td>\n",
       "      <td>GAGCTGTACAAGTAAGCGGCCGCCGGACTGCACGACAGTCCGTGTA...</td>\n",
       "      <td>27.340000</td>\n",
       "      <td>12</td>\n",
       "    </tr>\n",
       "    <tr>\n",
       "      <th>...</th>\n",
       "      <td>...</td>\n",
       "      <td>...</td>\n",
       "      <td>...</td>\n",
       "      <td>...</td>\n",
       "      <td>...</td>\n",
       "      <td>...</td>\n",
       "      <td>...</td>\n",
       "      <td>...</td>\n",
       "      <td>...</td>\n",
       "      <td>...</td>\n",
       "      <td>...</td>\n",
       "      <td>...</td>\n",
       "    </tr>\n",
       "    <tr>\n",
       "      <th>1947985</th>\n",
       "      <td>GCAGTTAGTAGGTACG</td>\n",
       "      <td>32.0625</td>\n",
       "      <td>16</td>\n",
       "      <td>NutrapPOS_S1</td>\n",
       "      <td>NutrapPOS_S1_GCAGTTAGTAGGTACG</td>\n",
       "      <td>GAGCGATCTAGG</td>\n",
       "      <td>25.916667</td>\n",
       "      <td>15</td>\n",
       "      <td>GCAGTTAGTAGGTACG_GAGCGATCTAGG</td>\n",
       "      <td>GAGCTGTANAAGTAAGCGGCCGCCGGACTGCACGACAGTCGACGAT...</td>\n",
       "      <td>21.000000</td>\n",
       "      <td>2</td>\n",
       "    </tr>\n",
       "    <tr>\n",
       "      <th>1947986</th>\n",
       "      <td>TGTGATGAGAAATTCG</td>\n",
       "      <td>31.2500</td>\n",
       "      <td>18</td>\n",
       "      <td>NutrapPOS_S1</td>\n",
       "      <td>NutrapPOS_S1_TGTGATGAGAAATTCG</td>\n",
       "      <td>AATGCAAAACGG</td>\n",
       "      <td>36.250000</td>\n",
       "      <td>21</td>\n",
       "      <td>TGTGATGAGAAATTCG_AATGCAAAACGG</td>\n",
       "      <td>GAGCTGTANAAGTAAGCGGCCGCCGGACTGCACGACAGTCGACGAT...</td>\n",
       "      <td>25.191429</td>\n",
       "      <td>2</td>\n",
       "    </tr>\n",
       "    <tr>\n",
       "      <th>1947987</th>\n",
       "      <td>TGTGATGAGAAATTCG</td>\n",
       "      <td>35.9375</td>\n",
       "      <td>32</td>\n",
       "      <td>NutrapPOS_S1</td>\n",
       "      <td>NutrapPOS_S1_TGTGATGAGAAATTCG</td>\n",
       "      <td>ACATAATCCTAG</td>\n",
       "      <td>37.750000</td>\n",
       "      <td>33</td>\n",
       "      <td>TGTGATGAGAAATTCG_ACATAATCCTAG</td>\n",
       "      <td>GAGCTGTANAAGTAAGCGGCCGCCGGACTGCACGACAGTCCGTGTA...</td>\n",
       "      <td>27.671429</td>\n",
       "      <td>2</td>\n",
       "    </tr>\n",
       "    <tr>\n",
       "      <th>1947988</th>\n",
       "      <td>ACTTCGCTCGGTAAGG</td>\n",
       "      <td>33.7500</td>\n",
       "      <td>30</td>\n",
       "      <td>NutrapPOS_S1</td>\n",
       "      <td>NutrapPOS_S1_ACTTCGCTCGGTAAGG</td>\n",
       "      <td>TTCTGTGACATG</td>\n",
       "      <td>36.500000</td>\n",
       "      <td>19</td>\n",
       "      <td>ACTTCGCTCGGTAAGG_TTCTGTGACATG</td>\n",
       "      <td>GAGCTGTANAAGTAAGCGGCCGCCGGACTGGAGTCGATACGTAGCA...</td>\n",
       "      <td>27.588571</td>\n",
       "      <td>2</td>\n",
       "    </tr>\n",
       "    <tr>\n",
       "      <th>1947989</th>\n",
       "      <td>GCAGTTAGTAGGTACG</td>\n",
       "      <td>32.5000</td>\n",
       "      <td>19</td>\n",
       "      <td>NutrapPOS_S1</td>\n",
       "      <td>NutrapPOS_S1_GCAGTTAGTAGGTACG</td>\n",
       "      <td>GAGCGATCTAGG</td>\n",
       "      <td>36.083333</td>\n",
       "      <td>32</td>\n",
       "      <td>GCAGTTAGTAGGTACG_GAGCGATCTAGG</td>\n",
       "      <td>GAGCTGTANAAGTAAGCGGCCGCCGGACTGCACGACAGTCGACGAT...</td>\n",
       "      <td>25.091429</td>\n",
       "      <td>2</td>\n",
       "    </tr>\n",
       "  </tbody>\n",
       "</table>\n",
       "<p>1947990 rows × 12 columns</p>\n",
       "</div>"
      ],
      "text/plain": [
       "                  cell_bc  cell_bc_quality_mean  cell_bc_quality_min  \\\n",
       "0        TGTGATGAGAAATTCG               34.6875                   19   \n",
       "1        CTAGGTAAGAAGATCT               30.1250                   16   \n",
       "2        TTCTTGAGTACCTAAC               36.0625                   33   \n",
       "3        CTACAGACATGGGTTT               34.3125                   29   \n",
       "4        TGTGATGAGAAATTCG               33.6875                   16   \n",
       "...                   ...                   ...                  ...   \n",
       "1947985  GCAGTTAGTAGGTACG               32.0625                   16   \n",
       "1947986  TGTGATGAGAAATTCG               31.2500                   18   \n",
       "1947987  TGTGATGAGAAATTCG               35.9375                   32   \n",
       "1947988  ACTTCGCTCGGTAAGG               33.7500                   30   \n",
       "1947989  GCAGTTAGTAGGTACG               32.5000                   19   \n",
       "\n",
       "              library                        cell_id           umi  \\\n",
       "0        NutrapPOS_S1  NutrapPOS_S1_TGTGATGAGAAATTCG  ACATAATCCTAG   \n",
       "1        NutrapPOS_S1  NutrapPOS_S1_CTAGGTAAGAAGATCT  CCCAACAGAACG   \n",
       "2        NutrapPOS_S1  NutrapPOS_S1_TTCTTGAGTACCTAAC  TCTCTTAAAGTT   \n",
       "3        NutrapPOS_S1  NutrapPOS_S1_CTACAGACATGGGTTT  TCGTTGCCTTGC   \n",
       "4        NutrapPOS_S1  NutrapPOS_S1_TGTGATGAGAAATTCG  ACATAATCCTAG   \n",
       "...               ...                            ...           ...   \n",
       "1947985  NutrapPOS_S1  NutrapPOS_S1_GCAGTTAGTAGGTACG  GAGCGATCTAGG   \n",
       "1947986  NutrapPOS_S1  NutrapPOS_S1_TGTGATGAGAAATTCG  AATGCAAAACGG   \n",
       "1947987  NutrapPOS_S1  NutrapPOS_S1_TGTGATGAGAAATTCG  ACATAATCCTAG   \n",
       "1947988  NutrapPOS_S1  NutrapPOS_S1_ACTTCGCTCGGTAAGG  TTCTGTGACATG   \n",
       "1947989  NutrapPOS_S1  NutrapPOS_S1_GCAGTTAGTAGGTACG  GAGCGATCTAGG   \n",
       "\n",
       "         umi_quality_mean  umi_quality_min                         umi_id  \\\n",
       "0               34.583333               20  TGTGATGAGAAATTCG_ACATAATCCTAG   \n",
       "1               30.416667               15  CTAGGTAAGAAGATCT_CCCAACAGAACG   \n",
       "2               38.500000               38  TTCTTGAGTACCTAAC_TCTCTTAAAGTT   \n",
       "3               37.500000               35  CTACAGACATGGGTTT_TCGTTGCCTTGC   \n",
       "4               33.416667               18  TGTGATGAGAAATTCG_ACATAATCCTAG   \n",
       "...                   ...              ...                            ...   \n",
       "1947985         25.916667               15  GCAGTTAGTAGGTACG_GAGCGATCTAGG   \n",
       "1947986         36.250000               21  TGTGATGAGAAATTCG_AATGCAAAACGG   \n",
       "1947987         37.750000               33  TGTGATGAGAAATTCG_ACATAATCCTAG   \n",
       "1947988         36.500000               19  ACTTCGCTCGGTAAGG_TTCTGTGACATG   \n",
       "1947989         36.083333               32  GCAGTTAGTAGGTACG_GAGCGATCTAGG   \n",
       "\n",
       "                                                  clone_id  \\\n",
       "0        GAGCTGTACAAGTAAGCGGCCGCCGGACTGCACGACAGTCCGCGTA...   \n",
       "1        GAGCTGTACAAGTAAGCGGCCGCCGGACTGCACGACAGTCGACGAT...   \n",
       "2        GAGCTGTACAAGTAAGCGGCCGCCGGACTGCACGACAGTCGATGGA...   \n",
       "3        GAGCTGTACAAGTAAGCGGCCGCCGGACTGCACGACAGTCGCGATG...   \n",
       "4        GAGCTGTACAAGTAAGCGGCCGCCGGACTGCACGACAGTCCGTGTA...   \n",
       "...                                                    ...   \n",
       "1947985  GAGCTGTANAAGTAAGCGGCCGCCGGACTGCACGACAGTCGACGAT...   \n",
       "1947986  GAGCTGTANAAGTAAGCGGCCGCCGGACTGCACGACAGTCGACGAT...   \n",
       "1947987  GAGCTGTANAAGTAAGCGGCCGCCGGACTGCACGACAGTCCGTGTA...   \n",
       "1947988  GAGCTGTANAAGTAAGCGGCCGCCGGACTGGAGTCGATACGTAGCA...   \n",
       "1947989  GAGCTGTANAAGTAAGCGGCCGCCGGACTGCACGACAGTCGACGAT...   \n",
       "\n",
       "         clone_id_quality_mean  clone_id_quality_min  \n",
       "0                    27.397143                    12  \n",
       "1                    29.111429                    12  \n",
       "2                    29.282857                    12  \n",
       "3                    27.754286                    12  \n",
       "4                    27.340000                    12  \n",
       "...                        ...                   ...  \n",
       "1947985              21.000000                     2  \n",
       "1947986              25.191429                     2  \n",
       "1947987              27.671429                     2  \n",
       "1947988              27.588571                     2  \n",
       "1947989              25.091429                     2  \n",
       "\n",
       "[1947990 rows x 12 columns]"
      ]
     },
     "execution_count": 7,
     "metadata": {},
     "output_type": "execute_result"
    }
   ],
   "source": [
    "df_raw_reads"
   ]
  },
  {
   "cell_type": "code",
   "execution_count": 8,
   "id": "33802094-b7c8-40fb-8185-be8755e4765e",
   "metadata": {
    "papermill": {
     "duration": 0.278804,
     "end_time": "2022-08-03T14:48:13.110566",
     "exception": false,
     "start_time": "2022-08-03T14:48:12.831762",
     "status": "completed"
    },
    "tags": []
   },
   "outputs": [
    {
     "name": "stdout",
     "output_type": "stream",
     "text": [
      "N fraction: 0.0\n"
     ]
    }
   ],
   "source": [
    "df_N=df_raw_reads[df_raw_reads['cell_bc'].apply(lambda x: 'N' in x)]\n",
    "print('N fraction:',len(df_N)/len(df_raw_reads))"
   ]
  },
  {
   "cell_type": "code",
   "execution_count": 9,
   "id": "f7592ba4-c0d0-42de-a5af-66fa21bb4e83",
   "metadata": {
    "papermill": {
     "duration": 8.41057,
     "end_time": "2022-08-03T14:48:30.749333",
     "exception": false,
     "start_time": "2022-08-03T14:48:22.338763",
     "status": "completed"
    },
    "tags": []
   },
   "outputs": [
    {
     "name": "stdout",
     "output_type": "stream",
     "text": [
      "Fastq with valid barcodes: 750464\n",
      "CPU times: user 5.9 s, sys: 100 ms, total: 6 s\n",
      "Wall time: 5.99 s\n"
     ]
    }
   ],
   "source": [
    "%%time\n",
    "df_filter_reads=car.CARLIN_preprocessing(df_raw_reads,ref_cell_barcodes=df_ref_BC['CB'])"
   ]
  },
  {
   "cell_type": "code",
   "execution_count": 10,
   "id": "7889c947-c994-4518-98ff-8f4070f9260a",
   "metadata": {},
   "outputs": [
    {
     "data": {
      "text/html": [
       "<div>\n",
       "<style scoped>\n",
       "    .dataframe tbody tr th:only-of-type {\n",
       "        vertical-align: middle;\n",
       "    }\n",
       "\n",
       "    .dataframe tbody tr th {\n",
       "        vertical-align: top;\n",
       "    }\n",
       "\n",
       "    .dataframe thead th {\n",
       "        text-align: right;\n",
       "    }\n",
       "</style>\n",
       "<table border=\"1\" class=\"dataframe\">\n",
       "  <thead>\n",
       "    <tr style=\"text-align: right;\">\n",
       "      <th></th>\n",
       "      <th>cell_bc</th>\n",
       "      <th>library</th>\n",
       "      <th>cell_id</th>\n",
       "      <th>umi</th>\n",
       "      <th>umi_id</th>\n",
       "      <th>clone_id</th>\n",
       "      <th>read</th>\n",
       "    </tr>\n",
       "  </thead>\n",
       "  <tbody>\n",
       "    <tr>\n",
       "      <th>0</th>\n",
       "      <td>TTCTTGAGTACCTAAC</td>\n",
       "      <td>NutrapPOS_S1</td>\n",
       "      <td>NutrapPOS_S1_TTCTTGAGTACCTAAC</td>\n",
       "      <td>TCTCTTAAAGTT</td>\n",
       "      <td>TTCTTGAGTACCTAAC_TCTCTTAAAGTT</td>\n",
       "      <td>GAGCTGTACAAGTAAGCGGCCGCCGGACTGCACGACAGTCGATGGA...</td>\n",
       "      <td>1</td>\n",
       "    </tr>\n",
       "    <tr>\n",
       "      <th>1</th>\n",
       "      <td>CATACCCAGAAGCCAC</td>\n",
       "      <td>NutrapPOS_S1</td>\n",
       "      <td>NutrapPOS_S1_CATACCCAGAAGCCAC</td>\n",
       "      <td>TTATCTACTTGG</td>\n",
       "      <td>CATACCCAGAAGCCAC_TTATCTACTTGG</td>\n",
       "      <td>AAGCTGTACAAGTAAGCGGCCGCCGGACTGCACGACAGTCGACGAT...</td>\n",
       "      <td>1</td>\n",
       "    </tr>\n",
       "    <tr>\n",
       "      <th>2</th>\n",
       "      <td>CCGGTGAGTCGGTGAA</td>\n",
       "      <td>NutrapPOS_S1</td>\n",
       "      <td>NutrapPOS_S1_CCGGTGAGTCGGTGAA</td>\n",
       "      <td>TAAGGTTTATAT</td>\n",
       "      <td>CCGGTGAGTCGGTGAA_TAAGGTTTATAT</td>\n",
       "      <td>GAGCTGTACAAGTAAGCGGCCGCCGGACTGCACGACAGTCGACGAT...</td>\n",
       "      <td>1</td>\n",
       "    </tr>\n",
       "    <tr>\n",
       "      <th>3</th>\n",
       "      <td>ATCCGTCCAGGACTTT</td>\n",
       "      <td>NutrapPOS_S1</td>\n",
       "      <td>NutrapPOS_S1_ATCCGTCCAGGACTTT</td>\n",
       "      <td>AGAGCAAAACAA</td>\n",
       "      <td>ATCCGTCCAGGACTTT_AGAGCAAAACAA</td>\n",
       "      <td>GAGCTGTACAAGTAAGCGGCCGCCGGACTGCACGACAGTCGACGAT...</td>\n",
       "      <td>1</td>\n",
       "    </tr>\n",
       "    <tr>\n",
       "      <th>4</th>\n",
       "      <td>ATTCTTGTCGGCTTGG</td>\n",
       "      <td>NutrapPOS_S1</td>\n",
       "      <td>NutrapPOS_S1_ATTCTTGTCGGCTTGG</td>\n",
       "      <td>TCTAGGTTTCGC</td>\n",
       "      <td>ATTCTTGTCGGCTTGG_TCTAGGTTTCGC</td>\n",
       "      <td>GAGCTGTACAAGTAAGCGGCCGCGAGCTCGCTGATCAGCCTCGACT...</td>\n",
       "      <td>1</td>\n",
       "    </tr>\n",
       "    <tr>\n",
       "      <th>...</th>\n",
       "      <td>...</td>\n",
       "      <td>...</td>\n",
       "      <td>...</td>\n",
       "      <td>...</td>\n",
       "      <td>...</td>\n",
       "      <td>...</td>\n",
       "      <td>...</td>\n",
       "    </tr>\n",
       "    <tr>\n",
       "      <th>750459</th>\n",
       "      <td>ATTCTTGTCGGCTTGG</td>\n",
       "      <td>NutrapPOS_S1</td>\n",
       "      <td>NutrapPOS_S1_ATTCTTGTCGGCTTGG</td>\n",
       "      <td>TCTAGGTTTCGT</td>\n",
       "      <td>ATTCTTGTCGGCTTGG_TCTAGGTTTCGT</td>\n",
       "      <td>GAGCTGTANAAGTAAGCGGCCGCGAGCTCGCAGAACAGCCTCGACT...</td>\n",
       "      <td>1</td>\n",
       "    </tr>\n",
       "    <tr>\n",
       "      <th>750460</th>\n",
       "      <td>GGGCCATGTCGAGCAA</td>\n",
       "      <td>NutrapPOS_S1</td>\n",
       "      <td>NutrapPOS_S1_GGGCCATGTCGAGCAA</td>\n",
       "      <td>ACAATGGTCAGT</td>\n",
       "      <td>GGGCCATGTCGAGCAA_ACAATGGTCAGT</td>\n",
       "      <td>GAGCTGTANAAGTAAGCGGCCGCCGGACTGCACGACAGTCGACGAT...</td>\n",
       "      <td>1</td>\n",
       "    </tr>\n",
       "    <tr>\n",
       "      <th>750461</th>\n",
       "      <td>GGAGGATTCTAGTGAC</td>\n",
       "      <td>NutrapPOS_S1</td>\n",
       "      <td>NutrapPOS_S1_GGAGGATTCTAGTGAC</td>\n",
       "      <td>ATTCAGCTTTAG</td>\n",
       "      <td>GGAGGATTCTAGTGAC_ATTCAGCTTTAG</td>\n",
       "      <td>GAGCTGTANAAGTAAGCGGCCGCCGGACTGCACGACAGTCGACGAT...</td>\n",
       "      <td>1</td>\n",
       "    </tr>\n",
       "    <tr>\n",
       "      <th>750462</th>\n",
       "      <td>TCTACATAGTCACTGT</td>\n",
       "      <td>NutrapPOS_S1</td>\n",
       "      <td>NutrapPOS_S1_TCTACATAGTCACTGT</td>\n",
       "      <td>GAACACAAAACC</td>\n",
       "      <td>TCTACATAGTCACTGT_GAACACAAAACC</td>\n",
       "      <td>GAGCTGTANAAGTAAGCGGCCGCCGGACTGCACGACAGTCGACGAT...</td>\n",
       "      <td>1</td>\n",
       "    </tr>\n",
       "    <tr>\n",
       "      <th>750463</th>\n",
       "      <td>ATGCGATGTTGTCATG</td>\n",
       "      <td>NutrapPOS_S1</td>\n",
       "      <td>NutrapPOS_S1_ATGCGATGTTGTCATG</td>\n",
       "      <td>AGCCCTCAAGCC</td>\n",
       "      <td>ATGCGATGTTGTCATG_AGCCCTCAAGCC</td>\n",
       "      <td>GAGCTGACNAGTAAGCGGCCGCCGGACTGCACGACAGTCGACGATG...</td>\n",
       "      <td>1</td>\n",
       "    </tr>\n",
       "  </tbody>\n",
       "</table>\n",
       "<p>736041 rows × 7 columns</p>\n",
       "</div>"
      ],
      "text/plain": [
       "                 cell_bc       library                        cell_id  \\\n",
       "0       TTCTTGAGTACCTAAC  NutrapPOS_S1  NutrapPOS_S1_TTCTTGAGTACCTAAC   \n",
       "1       CATACCCAGAAGCCAC  NutrapPOS_S1  NutrapPOS_S1_CATACCCAGAAGCCAC   \n",
       "2       CCGGTGAGTCGGTGAA  NutrapPOS_S1  NutrapPOS_S1_CCGGTGAGTCGGTGAA   \n",
       "3       ATCCGTCCAGGACTTT  NutrapPOS_S1  NutrapPOS_S1_ATCCGTCCAGGACTTT   \n",
       "4       ATTCTTGTCGGCTTGG  NutrapPOS_S1  NutrapPOS_S1_ATTCTTGTCGGCTTGG   \n",
       "...                  ...           ...                            ...   \n",
       "750459  ATTCTTGTCGGCTTGG  NutrapPOS_S1  NutrapPOS_S1_ATTCTTGTCGGCTTGG   \n",
       "750460  GGGCCATGTCGAGCAA  NutrapPOS_S1  NutrapPOS_S1_GGGCCATGTCGAGCAA   \n",
       "750461  GGAGGATTCTAGTGAC  NutrapPOS_S1  NutrapPOS_S1_GGAGGATTCTAGTGAC   \n",
       "750462  TCTACATAGTCACTGT  NutrapPOS_S1  NutrapPOS_S1_TCTACATAGTCACTGT   \n",
       "750463  ATGCGATGTTGTCATG  NutrapPOS_S1  NutrapPOS_S1_ATGCGATGTTGTCATG   \n",
       "\n",
       "                 umi                         umi_id  \\\n",
       "0       TCTCTTAAAGTT  TTCTTGAGTACCTAAC_TCTCTTAAAGTT   \n",
       "1       TTATCTACTTGG  CATACCCAGAAGCCAC_TTATCTACTTGG   \n",
       "2       TAAGGTTTATAT  CCGGTGAGTCGGTGAA_TAAGGTTTATAT   \n",
       "3       AGAGCAAAACAA  ATCCGTCCAGGACTTT_AGAGCAAAACAA   \n",
       "4       TCTAGGTTTCGC  ATTCTTGTCGGCTTGG_TCTAGGTTTCGC   \n",
       "...              ...                            ...   \n",
       "750459  TCTAGGTTTCGT  ATTCTTGTCGGCTTGG_TCTAGGTTTCGT   \n",
       "750460  ACAATGGTCAGT  GGGCCATGTCGAGCAA_ACAATGGTCAGT   \n",
       "750461  ATTCAGCTTTAG  GGAGGATTCTAGTGAC_ATTCAGCTTTAG   \n",
       "750462  GAACACAAAACC  TCTACATAGTCACTGT_GAACACAAAACC   \n",
       "750463  AGCCCTCAAGCC  ATGCGATGTTGTCATG_AGCCCTCAAGCC   \n",
       "\n",
       "                                                 clone_id  read  \n",
       "0       GAGCTGTACAAGTAAGCGGCCGCCGGACTGCACGACAGTCGATGGA...     1  \n",
       "1       AAGCTGTACAAGTAAGCGGCCGCCGGACTGCACGACAGTCGACGAT...     1  \n",
       "2       GAGCTGTACAAGTAAGCGGCCGCCGGACTGCACGACAGTCGACGAT...     1  \n",
       "3       GAGCTGTACAAGTAAGCGGCCGCCGGACTGCACGACAGTCGACGAT...     1  \n",
       "4       GAGCTGTACAAGTAAGCGGCCGCGAGCTCGCTGATCAGCCTCGACT...     1  \n",
       "...                                                   ...   ...  \n",
       "750459  GAGCTGTANAAGTAAGCGGCCGCGAGCTCGCAGAACAGCCTCGACT...     1  \n",
       "750460  GAGCTGTANAAGTAAGCGGCCGCCGGACTGCACGACAGTCGACGAT...     1  \n",
       "750461  GAGCTGTANAAGTAAGCGGCCGCCGGACTGCACGACAGTCGACGAT...     1  \n",
       "750462  GAGCTGTANAAGTAAGCGGCCGCCGGACTGCACGACAGTCGACGAT...     1  \n",
       "750463  GAGCTGACNAGTAAGCGGCCGCCGGACTGCACGACAGTCGACGATG...     1  \n",
       "\n",
       "[736041 rows x 7 columns]"
      ]
     },
     "execution_count": 10,
     "metadata": {},
     "output_type": "execute_result"
    }
   ],
   "source": [
    "df_filter_reads"
   ]
  },
  {
   "cell_type": "markdown",
   "id": "4ad53387-4546-4beb-b154-c5a59dae5280",
   "metadata": {
    "papermill": {
     "duration": 0.304664,
     "end_time": "2022-08-09T16:56:36.298106",
     "exception": false,
     "start_time": "2022-08-09T16:56:35.993442",
     "status": "completed"
    },
    "tags": []
   },
   "source": [
    "## Check raw data qualities\n",
    "\n",
    "Check raw data to decide the read cutoff. If we see a linear slope between read number per cell and clone number per cell, this is a signature of sequencing-error induced clonal diversity"
   ]
  },
  {
   "cell_type": "code",
   "execution_count": 11,
   "id": "98d60b88-accb-47a2-8e62-c5c571d4e2c5",
   "metadata": {},
   "outputs": [
    {
     "name": "stdout",
     "output_type": "stream",
     "text": [
      "Identified 114 putative cell_id\n"
     ]
    },
    {
     "data": {
      "image/png": "[encoded data removed]",
      "text/plain": [
       "<Figure size 600x525 with 1 Axes>"
      ]
     },
     "metadata": {},
     "output_type": "display_data"
    }
   ],
   "source": [
    "df_valid_cells=larry.extract_putative_valid_cell_id(df_filter_reads,signal_threshold=1.5,cell_key=\"cell_id\",)"
   ]
  },
  {
   "cell_type": "code",
   "execution_count": 12,
   "id": "9449a12e-b751-4ca4-b7ad-1bb922fa90db",
   "metadata": {},
   "outputs": [
    {
     "data": {
      "text/html": [
       "<div>\n",
       "<style scoped>\n",
       "    .dataframe tbody tr th:only-of-type {\n",
       "        vertical-align: middle;\n",
       "    }\n",
       "\n",
       "    .dataframe tbody tr th {\n",
       "        vertical-align: top;\n",
       "    }\n",
       "\n",
       "    .dataframe thead th {\n",
       "        text-align: right;\n",
       "    }\n",
       "</style>\n",
       "<table border=\"1\" class=\"dataframe\">\n",
       "  <thead>\n",
       "    <tr style=\"text-align: right;\">\n",
       "      <th></th>\n",
       "      <th>cell_id</th>\n",
       "      <th>cell_id_read_count</th>\n",
       "      <th>umi_count</th>\n",
       "      <th>valid</th>\n",
       "    </tr>\n",
       "  </thead>\n",
       "  <tbody>\n",
       "    <tr>\n",
       "      <th>0</th>\n",
       "      <td>NutrapPOS_S1_AAACCCATCTGTCTCG</td>\n",
       "      <td>6548</td>\n",
       "      <td>54</td>\n",
       "      <td>True</td>\n",
       "    </tr>\n",
       "    <tr>\n",
       "      <th>1</th>\n",
       "      <td>NutrapPOS_S1_AAACGAATCACCGACG</td>\n",
       "      <td>29915</td>\n",
       "      <td>54</td>\n",
       "      <td>True</td>\n",
       "    </tr>\n",
       "    <tr>\n",
       "      <th>2</th>\n",
       "      <td>NutrapPOS_S1_AAAGAACGTGATAGTA</td>\n",
       "      <td>10842</td>\n",
       "      <td>72</td>\n",
       "      <td>True</td>\n",
       "    </tr>\n",
       "    <tr>\n",
       "      <th>4</th>\n",
       "      <td>NutrapPOS_S1_AAATGGATCGATCCAA</td>\n",
       "      <td>43</td>\n",
       "      <td>12</td>\n",
       "      <td>True</td>\n",
       "    </tr>\n",
       "    <tr>\n",
       "      <th>6</th>\n",
       "      <td>NutrapPOS_S1_AAGAACAGTTAGGAGC</td>\n",
       "      <td>38</td>\n",
       "      <td>12</td>\n",
       "      <td>True</td>\n",
       "    </tr>\n",
       "    <tr>\n",
       "      <th>...</th>\n",
       "      <td>...</td>\n",
       "      <td>...</td>\n",
       "      <td>...</td>\n",
       "      <td>...</td>\n",
       "    </tr>\n",
       "    <tr>\n",
       "      <th>157</th>\n",
       "      <td>NutrapPOS_S1_TTGCATTTCCTCTCTT</td>\n",
       "      <td>3</td>\n",
       "      <td>1</td>\n",
       "      <td>True</td>\n",
       "    </tr>\n",
       "    <tr>\n",
       "      <th>158</th>\n",
       "      <td>NutrapPOS_S1_TTGCGTCCATAATGAG</td>\n",
       "      <td>9</td>\n",
       "      <td>5</td>\n",
       "      <td>True</td>\n",
       "    </tr>\n",
       "    <tr>\n",
       "      <th>162</th>\n",
       "      <td>NutrapPOS_S1_TTTGATCGTGAGACGT</td>\n",
       "      <td>6457</td>\n",
       "      <td>83</td>\n",
       "      <td>True</td>\n",
       "    </tr>\n",
       "    <tr>\n",
       "      <th>163</th>\n",
       "      <td>NutrapPOS_S1_TTTGGTTTCTCCGTGT</td>\n",
       "      <td>23</td>\n",
       "      <td>15</td>\n",
       "      <td>True</td>\n",
       "    </tr>\n",
       "    <tr>\n",
       "      <th>164</th>\n",
       "      <td>NutrapPOS_S1_TTTGTTGAGAGAGTGA</td>\n",
       "      <td>14838</td>\n",
       "      <td>81</td>\n",
       "      <td>True</td>\n",
       "    </tr>\n",
       "  </tbody>\n",
       "</table>\n",
       "<p>114 rows × 4 columns</p>\n",
       "</div>"
      ],
      "text/plain": [
       "                           cell_id  cell_id_read_count  umi_count  valid\n",
       "0    NutrapPOS_S1_AAACCCATCTGTCTCG                6548         54   True\n",
       "1    NutrapPOS_S1_AAACGAATCACCGACG               29915         54   True\n",
       "2    NutrapPOS_S1_AAAGAACGTGATAGTA               10842         72   True\n",
       "4    NutrapPOS_S1_AAATGGATCGATCCAA                  43         12   True\n",
       "6    NutrapPOS_S1_AAGAACAGTTAGGAGC                  38         12   True\n",
       "..                             ...                 ...        ...    ...\n",
       "157  NutrapPOS_S1_TTGCATTTCCTCTCTT                   3          1   True\n",
       "158  NutrapPOS_S1_TTGCGTCCATAATGAG                   9          5   True\n",
       "162  NutrapPOS_S1_TTTGATCGTGAGACGT                6457         83   True\n",
       "163  NutrapPOS_S1_TTTGGTTTCTCCGTGT                  23         15   True\n",
       "164  NutrapPOS_S1_TTTGTTGAGAGAGTGA               14838         81   True\n",
       "\n",
       "[114 rows x 4 columns]"
      ]
     },
     "execution_count": 12,
     "metadata": {},
     "output_type": "execute_result"
    }
   ],
   "source": [
    "df_valid_cells"
   ]
  },
  {
   "cell_type": "code",
   "execution_count": 15,
   "id": "d35f03ed-b982-4200-a9ce-1f79cd09525a",
   "metadata": {},
   "outputs": [],
   "source": [
    "df = pd.DataFrame(df_valid_cells)\n",
    "df.to_csv(output_dir+sample+'.csv', index=False)"
   ]
  },
  {
   "cell_type": "markdown",
   "id": "009b7b7a-cc45-4bc9-8ec5-f24309b50098",
   "metadata": {
    "papermill": {
     "duration": 0.240897,
     "end_time": "2022-08-09T16:56:43.314539",
     "exception": false,
     "start_time": "2022-08-09T16:56:43.073642",
     "status": "completed"
    },
    "tags": []
   },
   "source": [
    "We are interested to see at what read cutoff the corresponding cell number or clone number conform to our expectation. "
   ]
  },
  {
   "cell_type": "code",
   "execution_count": 16,
   "id": "7e7f9810-1101-4053-89d4-cc1e7affce6f",
   "metadata": {
    "papermill": {
     "duration": 1.74691,
     "end_time": "2022-08-09T16:56:45.332372",
     "exception": false,
     "start_time": "2022-08-09T16:56:43.585462",
     "status": "completed"
    },
    "tags": []
   },
   "outputs": [
    {
     "data": {
      "image/png": "[encoded data removed]",
      "text/plain": [
       "<Figure size 600x525 with 1 Axes>"
      ]
     },
     "metadata": {},
     "output_type": "display_data"
    },
    {
     "data": {
      "image/png": "[encoded data removed]",
      "text/plain": [
       "<Figure size 600x525 with 1 Axes>"
      ]
     },
     "metadata": {},
     "output_type": "display_data"
    }
   ],
   "source": [
    "df_unique=larry.QC_unique_cells(df_filter_reads,target_keys=['cell_id','clone_id'])"
   ]
  },
  {
   "cell_type": "code",
   "execution_count": 17,
   "id": "bfd33d49-77ee-4aab-835e-9549b70b5e86",
   "metadata": {
    "papermill": {
     "duration": 0.243546,
     "end_time": "2022-08-09T16:56:45.764044",
     "exception": false,
     "start_time": "2022-08-09T16:56:45.520498",
     "status": "completed"
    },
    "tags": []
   },
   "outputs": [
    {
     "name": "stdout",
     "output_type": "stream",
     "text": [
      "library number: 1\n",
      "cell_id number: 165\n",
      "clone_id number: 725036\n",
      "umi_id number: 5124\n",
      "total reads: 750K\n"
     ]
    }
   ],
   "source": [
    "larry.print_statistics(df_filter_reads)"
   ]
  },
  {
   "cell_type": "markdown",
   "id": "d4cb947d-e9a0-42b3-8a1d-463d972dcca3",
   "metadata": {
    "papermill": {
     "duration": 0.223337,
     "end_time": "2022-08-09T16:56:48.740319",
     "exception": false,
     "start_time": "2022-08-09T16:56:48.516982",
     "status": "completed"
    },
    "tags": []
   },
   "source": [
    "## Collapse clone_id and filter cells within the same clone_id length"
   ]
  },
  {
   "cell_type": "markdown",
   "id": "3e488f68-8258-472a-b050-359e6333666b",
   "metadata": {
    "papermill": {
     "duration": 0.22443,
     "end_time": "2022-08-09T16:56:48.264754",
     "exception": false,
     "start_time": "2022-08-09T16:56:48.040324",
     "status": "completed"
    },
    "tags": []
   },
   "source": [
    "We first perform barcode cleaning within a certian distance, then re-calculate the read number, and filter out low-read-count sequences. The read threshold is determined as the 10% of the max read count within each sequence length group, with a lower bound at coarse_grained_readcutoff_floor"
   ]
  },
  {
   "cell_type": "code",
   "execution_count": 18,
   "id": "9d9be559-7424-411c-b88c-df26d7014d2a",
   "metadata": {
    "papermill": {
     "duration": 2.493344,
     "end_time": "2022-08-09T16:56:51.635462",
     "exception": false,
     "start_time": "2022-08-09T16:56:49.142118",
     "status": "completed"
    },
    "tags": []
   },
   "outputs": [],
   "source": [
    "df_filter_reads['bc_length']=df_filter_reads['clone_id'].apply(lambda x: len(x))\n",
    "read_cutoff=2 # initial read count filtering \n",
    "# coarse_grained_readcutoff_floor=5 # the lower bound of the later read count filtering, after denoising, and re-group reads. \n",
    "# distance_relative_threshold=0.05 # 5% error rate, will be multipled with the sequence length\n",
    "    \n",
    "# use a low-filtering threshold, and also avoid filtering out valid_cell ids from above\n",
    "def filter_low_read_cells(df,coarse_grained_readcutoff=None):\n",
    "    if coarse_grained_readcutoff is None:\n",
    "        coarse_grained_readcutoff=np.max([coarse_grained_readcutoff_floor,0.01*df['read'].max()])\n",
    "    return df[(df['read']>=coarse_grained_readcutoff) | df['cell_id'].isin(df_valid_cells['cell_id'].unique())]\n",
    "\n",
    "df_list=[]\n",
    "unique_seq_length=list(set(df_filter_reads['bc_length']))\n",
    "for target_length in sorted(unique_seq_length):\n",
    "    df_tmp=df_filter_reads[df_filter_reads['bc_length']==target_length]#.groupby(['cell_bc','clone_id']).agg({'read':'sum'})\n",
    "    df_HQ=larry.denoise_clonal_data(df_tmp,\n",
    "        target_key=\"clone_id\",\n",
    "        denoise_method=\"UMI_tools\",  # UMI_tools, 'Hamming'\n",
    "        distance_threshold=1, #np.max([1,int(target_length*distance_relative_threshold)]),      \n",
    "        read_cutoff=read_cutoff,\n",
    "        whiteList=None,\n",
    "        plot_report=False,\n",
    "        progress_bar=False)\n",
    "\n",
    "    df_HQ_group=larry.group_cells(df_HQ,group_keys=[\"library\",\"cell_id\",\"cell_bc\",\"clone_id\"])\n",
    "    df_out=df_HQ_group.groupby('clone_id',group_keys=True).apply(filter_low_read_cells).reset_index(drop=True)\n",
    "    df_out['bc_length']=target_length\n",
    "    df_list.append(df_out)\n",
    "df_denoise_bc_1=pd.concat(df_list)"
   ]
  },
  {
   "cell_type": "code",
   "execution_count": 19,
   "id": "93c0669a-d26a-4186-8fa2-8ae8d8db0ca0",
   "metadata": {
    "papermill": {
     "duration": 0.646955,
     "end_time": "2022-08-09T16:56:52.431318",
     "exception": false,
     "start_time": "2022-08-09T16:56:51.784363",
     "status": "completed"
    },
    "tags": []
   },
   "outputs": [
    {
     "data": {
      "image/png": "[encoded data removed]",
      "text/plain": [
       "<Figure size 1500x600 with 2 Axes>"
      ]
     },
     "metadata": {},
     "output_type": "display_data"
    }
   ],
   "source": [
    "larry.QC_clonal_reports(df_denoise_bc_1)"
   ]
  },
  {
   "cell_type": "markdown",
   "id": "5ab781ae-347a-4d4e-b7b0-1188beda1145",
   "metadata": {
    "papermill": {
     "duration": 0.213604,
     "end_time": "2022-08-09T16:56:53.110627",
     "exception": false,
     "start_time": "2022-08-09T16:56:52.897023",
     "status": "completed"
    },
    "tags": []
   },
   "source": [
    "## Select dominant clone_id within each cell_id"
   ]
  },
  {
   "cell_type": "markdown",
   "id": "81aeb03e-dd1d-4933-8296-adb031c091bd",
   "metadata": {
    "papermill": {
     "duration": 0.169378,
     "end_time": "2022-08-09T16:56:53.614672",
     "exception": false,
     "start_time": "2022-08-09T16:56:53.445294",
     "status": "completed"
    },
    "tags": []
   },
   "source": [
    "The above operation leaves some cell barcodes to have multiple clone barcodes. We select the read-dominant clonal barcodes as the putative clone id for each cell barcode."
   ]
  },
  {
   "cell_type": "code",
   "execution_count": 20,
   "id": "e8e53e48-259a-404b-8aa9-e80a57cd2f5b",
   "metadata": {
    "papermill": {
     "duration": 0.733346,
     "end_time": "2022-08-09T16:56:54.482941",
     "exception": false,
     "start_time": "2022-08-09T16:56:53.749595",
     "status": "completed"
    },
    "tags": []
   },
   "outputs": [
    {
     "name": "stdout",
     "output_type": "stream",
     "text": [
      "seq length\n"
     ]
    },
    {
     "data": {
      "image/png": "[encoded data removed]",
      "text/plain": [
       "<Figure size 600x525 with 1 Axes>"
      ]
     },
     "metadata": {},
     "output_type": "display_data"
    }
   ],
   "source": [
    "# select dominant barcode sequence within each cell barcode, we use a very high read_ratio to avoid false positive\n",
    "#df_dominant_frac=car.calculate_read_fraction_for_dominant_sequences(df_denoise_bc_2,cell_bc_key='cell_bc',clone_key='clone_id')\n",
    "df_dominant=larry.obtain_read_dominant_sequences(df_denoise_bc_1,cell_bc_key='cell_bc',clone_key='clone_id')\n",
    "sns.scatterplot(data=df_dominant,x='max_read_ratio',y='read')\n",
    "plt.yscale('log')"
   ]
  },
  {
   "cell_type": "code",
   "execution_count": null,
   "id": "24f2ef60-c69f-44c5-8689-3de57e56516d",
   "metadata": {},
   "outputs": [],
   "source": []
  }
 ],
 "metadata": {
  "kernelspec": {
   "display_name": "snakemake",
   "language": "python",
   "name": "snakemake"
  },
  "language_info": {
   "codemirror_mode": {
    "name": "ipython",
    "version": 3
   },
   "file_extension": ".py",
   "mimetype": "text/x-python",
   "name": "python",
   "nbconvert_exporter": "python",
   "pygments_lexer": "ipython3",
   "version": "3.11.7"
  }
 },
 "nbformat": 4,
 "nbformat_minor": 5
}
